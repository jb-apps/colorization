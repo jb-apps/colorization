{
 "cells": [
  {
   "cell_type": "code",
   "execution_count": 1,
   "id": "b7e33bd2-8cf9-4dd8-902d-7dd59c8d36a8",
   "metadata": {},
   "outputs": [
    {
     "name": "stderr",
     "output_type": "stream",
     "text": [
      "Torch version 2.7.0 has not been tested with coremltools. You may run into unexpected errors. Torch 2.5.0 is the most recent version that has been tested.\n"
     ]
    }
   ],
   "source": [
    "import torch\n",
    "from colorizers import siggraph17 as Colorizer\n",
    "import coremltools as ct"
   ]
  },
  {
   "cell_type": "code",
   "execution_count": 3,
   "id": "51244666-cc15-4100-b556-68a2f02bd41a",
   "metadata": {},
   "outputs": [
    {
     "name": "stderr",
     "output_type": "stream",
     "text": [
      "Converting PyTorch Frontend ==> MIL Ops: 100%|█████████████████████████████████████████████████████▊| 364/365 [00:00<00:00, 9460.45 ops/s]\n",
      "Running MIL frontend_pytorch pipeline: 100%|██████████████████████████████████████████████████████████| 5/5 [00:00<00:00, 352.43 passes/s]\n",
      "Running MIL default pipeline: 100%|██████████████████████████████████████████████████████████████████| 89/89 [00:01<00:00, 77.86 passes/s]\n",
      "Running MIL backend_mlprogram pipeline: 100%|███████████████████████████████████████████████████████| 12/12 [00:00<00:00, 408.15 passes/s]\n"
     ]
    }
   ],
   "source": [
    "torch_model = Colorizer(pretrained=True).eval()  # loads weights automatically\n",
    "\n",
    "example_input = torch.rand(1, 1, 256, 256)\n",
    "traced_model   = torch.jit.trace(torch_model, example_input)\n",
    "\n",
    "coreml_model = ct.convert(\n",
    "    traced_model,\n",
    "    minimum_deployment_target=ct.target.macOS15,\n",
    "    inputs=[ct.TensorType(name=\"input\", shape=example_input.shape)]\n",
    ")\n",
    "coreml_model.save(\"Colorizer.mlpackage\")"
   ]
  },
  {
   "cell_type": "markdown",
   "id": "4854ad99-5427-4c04-962b-13327fc4c2f8",
   "metadata": {},
   "source": [
    "# Model Verification"
   ]
  },
  {
   "cell_type": "code",
   "execution_count": 12,
   "id": "4ef44bcb-d0c9-4100-8cfa-20f5e3f4624e",
   "metadata": {},
   "outputs": [],
   "source": [
    "import numpy as np\n",
    "from PIL import Image\n",
    "from skimage import color        # pip install scikit-image\n",
    "import coremltools as ct\n",
    "\n",
    "# Load Core ML package (adjust path if needed)\n",
    "coreml_model = ct.models.MLModel(\"Colorizer.mlpackage\")\n",
    "\n",
    "# 1.  Prepare input\n",
    "in_img = Image.open(\"image.png\").convert(\"RGB\")\n",
    "in_rgb = np.asarray(in_img)\n",
    "in_lab = color.rgb2lab(in_rgb, channel_axis=2)             # (H,W,3)\n",
    "\n",
    "# Split L-a-b and convert each to NCHW float32\n",
    "lab_components = np.split(in_lab, 3, axis=-1)              # list of 3 (H,W,1)\n",
    "\n",
    "in_l, _, _ = [\n",
    "    np.expand_dims(c.transpose((2, 0, 1)).astype(np.float32), 0)  # (1,1,H,W)\n",
    "    for c in lab_components\n",
    "]\n",
    "\n",
    "# 2.  Inference\n",
    "out_ab = coreml_model.predict({\"input\": in_l})[\"var_518\"]   # (1,2,H,W)\n",
    "\n",
    "# 3.  Re-assemble LAB and back to RGB\n",
    "out_lab = np.squeeze(\n",
    "    np.concatenate([in_l, out_ab], axis=1),                # (1,3,H,W)\n",
    "    axis=0\n",
    ").transpose((1, 2, 0))                                     # (H,W,3)\n",
    "\n",
    "out_rgb = (color.lab2rgb(out_lab, channel_axis=2) * 255).astype(np.uint8)\n",
    "out_img = Image.fromarray(out_rgb)\n",
    "out_img.save(\"image_colorized.png\")\n",
    "out_img.show()"
   ]
  },
  {
   "cell_type": "code",
   "execution_count": null,
   "id": "40eb883f-ef72-4fcd-b4e4-20b1e484bac1",
   "metadata": {},
   "outputs": [],
   "source": []
  }
 ],
 "metadata": {
  "kernelspec": {
   "display_name": "Python 3 (ipykernel)",
   "language": "python",
   "name": "python3"
  },
  "language_info": {
   "codemirror_mode": {
    "name": "ipython",
    "version": 3
   },
   "file_extension": ".py",
   "mimetype": "text/x-python",
   "name": "python",
   "nbconvert_exporter": "python",
   "pygments_lexer": "ipython3",
   "version": "3.10.16"
  }
 },
 "nbformat": 4,
 "nbformat_minor": 5
}
